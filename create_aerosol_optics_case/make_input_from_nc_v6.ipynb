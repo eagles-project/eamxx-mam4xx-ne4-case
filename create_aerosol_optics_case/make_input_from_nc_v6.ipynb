{
 "cells": [
  {
   "cell_type": "code",
   "execution_count": 1,
   "metadata": {},
   "outputs": [],
   "source": [
    "# from  import *\n",
    "import importlib\n",
    "import netCDF4 as nc\n",
    "from math import nan"
   ]
  },
  {
   "cell_type": "code",
   "execution_count": 2,
   "metadata": {},
   "outputs": [],
   "source": [
    "#NOTE! I made of copy ../add_aerosol_ics and add .py extension.\n",
    "helper = importlib.import_module('add_aerosol_ics')"
   ]
  },
  {
   "cell_type": "code",
   "execution_count": 3,
   "metadata": {},
   "outputs": [],
   "source": [
    "import numpy as np\n",
    "try:\n",
    "    import ruamel_yaml as yaml\n",
    "except ImportError:\n",
    "    from ruamel import yaml\n",
    "from email.utils import formatdate\n",
    "BlockMap = yaml.comments.CommentedMap\n"
   ]
  },
  {
   "cell_type": "code",
   "execution_count": 4,
   "metadata": {},
   "outputs": [],
   "source": [
    "# name of original netcdf file. This script does not modify this file.\n",
    "input_file=\"scream_unit_tests_ne2np4L72_20220822.nc\"\n",
    "\n",
    "#yaml name: it produces by the Fortran group using e3sm. This script assumes that one column of data is saved.\n",
    "file_name_yaml =\"aer_rad_props_sw_ts_355.yaml\"\n",
    "\n",
    "#name of output netcdf file\n",
    "output_file=\"scream_unit_tests_aerosol_optics_ne2np4L72_20220822.nc\"\n",
    "\n",
    "# It assumes this 72 levels and state_q and qqcw have are (72x40)\n",
    "#NOTE! number of variables in state_q and qqcw. This values maybe different if we use different gas chemistry\n",
    "pcnst=40\n",
    "nlev=72"
   ]
  },
  {
   "cell_type": "code",
   "execution_count": 5,
   "metadata": {},
   "outputs": [
    {
     "name": "stdout",
     "output_type": "stream",
     "text": [
      "copying netCDF dimensions.\n",
      "\tcopying ncol dimension\n",
      "\tcopying nv dimension\n",
      "\tcopying time dimension\n",
      "\tcopying lev dimension\n",
      "\tcopying dim2 dimension\n",
      "\tcopying ilev dimension\n",
      "\tcopying nbnd dimension\n",
      "copying netCDF variables.\n",
      "\tcopying lat variable\n",
      "\tcopying lon variable\n",
      "\tcopying lat_vertices variable\n",
      "\tcopying lon_vertices variable\n",
      "\tcopying area variable\n",
      "\tcopying P0 variable\n",
      "\tcopying T_mid variable\n",
      "\tcopying T_prev_micro_step variable\n",
      "\tcopying bm variable\n",
      "\tcopying cldfrac_liq variable\n",
      "\tcopying cldfrac_tot variable\n",
      "\tcopying dim2 variable\n",
      "\tcopying dp variable\n",
      "\tcopying eddy_diff_mom variable\n",
      "\tcopying eff_radius_qc variable\n",
      "\tcopying eff_radius_qi variable\n",
      "\tcopying h2o variable\n",
      "\tcopying horiz_winds variable\n",
      "\tcopying host_dx variable\n",
      "\tcopying host_dy variable\n",
      "\tcopying hyai variable\n",
      "\tcopying hyam variable\n",
      "\tcopying hybi variable\n",
      "\tcopying hybm variable\n",
      "\tcopying ilev variable\n",
      "\tcopying inv_qc_relvar variable\n",
      "\tcopying lev variable\n",
      "\tcopying nc variable\n",
      "\tcopying nc_nuceat_tend variable\n",
      "\tcopying nccn variable\n",
      "\tcopying ni variable\n",
      "\tcopying ni_activated variable\n",
      "\tcopying nr variable\n",
      "\tcopying o3_volume_mix_ratio variable\n",
      "\tcopying omega variable\n",
      "\tcopying p_dry_int variable\n",
      "\tcopying p_dry_mid variable\n",
      "\tcopying p_int variable\n",
      "\tcopying p_mid variable\n",
      "\tcopying phis variable\n",
      "\tcopying pref_mid variable\n",
      "\tcopying ps variable\n",
      "\tcopying pseudo_density variable\n",
      "\tcopying pseudo_density_dry variable\n",
      "\tcopying qc variable\n",
      "\tcopying qi variable\n",
      "\tcopying qm variable\n",
      "\tcopying qr variable\n",
      "\tcopying qv variable\n",
      "\tcopying qv_prev_micro_step variable\n",
      "\tcopying sfc_alb_dif_nir variable\n",
      "\tcopying sfc_alb_dif_vis variable\n",
      "\tcopying sfc_alb_dir_nir variable\n",
      "\tcopying sfc_alb_dir_vis variable\n",
      "\tcopying sgs_buoy_flux variable\n",
      "\tcopying surf_latent_flux variable\n",
      "\tcopying surf_lw_flux_up variable\n",
      "\tcopying surf_mom_flux variable\n",
      "\tcopying surf_sens_flux variable\n",
      "\tcopying time variable\n",
      "\tcopying time_bnds variable\n",
      "\tcopying tke variable\n",
      "\tcopying v variable\n",
      "\tcopying vtheta_dp variable\n",
      "\tcopying w_i variable\n",
      "\tcopying z_int variable\n",
      "\tcopying z_mid variable\n"
     ]
    }
   ],
   "source": [
    "src_ncdata = nc.Dataset(input_file, \"r\")\n",
    "dst_ncdata = nc.Dataset(output_file, \"w\", format=\"NETCDF3_CLASSIC\")\n",
    "helper.copy_atts(src_ncdata, dst_ncdata)\n",
    "# False to turn off prints\n",
    "verbose=True\n",
    "helper.copy_dims(src_ncdata, dst_ncdata, verbose)\n",
    "helper.copy_vars(src_ncdata, dst_ncdata, verbose)"
   ]
  },
  {
   "cell_type": "code",
   "execution_count": 6,
   "metadata": {},
   "outputs": [],
   "source": [
    "dst_ncdata.setncatts(\n",
    "        {\n",
    "            \"source_file\": input_file,\n",
    "            \"additional_history\": \"aerosol data added by eamxx-mam4xx add_aerosol_ics.py\",\n",
    "        })\n"
   ]
  },
  {
   "cell_type": "code",
   "execution_count": 7,
   "metadata": {},
   "outputs": [],
   "source": [
    "datatype = \"float64\"\n",
    "scalar_2d_dims = (\"time\", \"ncol\", \"lev\")"
   ]
  },
  {
   "cell_type": "code",
   "execution_count": 8,
   "metadata": {},
   "outputs": [],
   "source": [
    "# load data from yaml files\n",
    "with open(file_name_yaml, 'r') as stream:\n",
    "    data_loaded = yaml.safe_load(stream)\n",
    "inputs = data_loaded['input']['fixed']"
   ]
  },
  {
   "cell_type": "code",
   "execution_count": 9,
   "metadata": {},
   "outputs": [],
   "source": [
    "# NOTE! state q is part of dryatm, but eamxx uses wet_atm, so we need to convert from dry to wet\n",
    "# NOTE! in the couple code we will convert again from wet to dry.\n",
    "state_q = np.array(inputs[\"state_q\"]).reshape((nlev,pcnst),order='F')\n",
    "# NOTE! qqcw is saved with C layout by the fortran team\n",
    "qqcw = np.array(inputs[\"qqcw\"]).reshape((nlev,pcnst), order='C')"
   ]
  },
  {
   "cell_type": "code",
   "execution_count": 10,
   "metadata": {},
   "outputs": [],
   "source": [
    "def calculate_wetmmr_from_drymmr(drymmr,qv_wet):\n",
    "# Note: emaxx qv_wet\n",
    "    return drymmr*(1.-qv_wet)\n",
    "\n",
    "def calculate_drymmr_from_wetmmr(wetmmr, qv_wet):\n",
    "  return wetmmr/(1.-qv_wet)\n",
    "\n",
    "def calculate_qv_wetmmr_from_qv_drymmr(qv_wet):\n",
    "  return qv_wet/(1.+qv_wet)"
   ]
  },
  {
   "cell_type": "code",
   "execution_count": 11,
   "metadata": {},
   "outputs": [],
   "source": [
    "qv_dry = state_q[:,0] # Note.dry water vapor mixing ratio\n",
    "qv_wet = calculate_qv_wetmmr_from_qv_drymmr(qv_dry)\n",
    "\n",
    "state_q_wet =calculate_wetmmr_from_drymmr(state_q,qv_wet.reshape((nlev,1)))\n",
    "qqcw_wet =calculate_wetmmr_from_drymmr(qqcw,qv_wet.reshape((nlev,1)))"
   ]
  },
  {
   "cell_type": "code",
   "execution_count": 12,
   "metadata": {},
   "outputs": [],
   "source": [
    "# these variables do not exit in original file from eamxx\n",
    "var_list ={}\n",
    "stateq_info = {'name':'state_q', 'shape':(nlev,pcnst),'data_yaml':qqcw_wet}\n",
    "# # cldn_info = {'name':'cldn', 'shape':(nlev)}\n",
    "qqcw_info = {'name':'qqcw', 'shape':(nlev,pcnst),'data_yaml':state_q_wet}\n",
    "## qv\n",
    "qv_wet_info = {'name':'qv_wet', 'shape':(nlev),'data_yaml':qv_wet}\n",
    "\n",
    "var_list.update({'state_q':stateq_info})\n",
    "var_list.update({'qv_wet':qv_wet_info})\n",
    "var_list.update({'qqcw':qqcw_info})"
   ]
  },
  {
   "cell_type": "code",
   "execution_count": 13,
   "metadata": {},
   "outputs": [],
   "source": [
    "# state_test= calculate_drymmr_from_wetmmr(state_q_wet,qv_wet.reshape((nlev,1)))\n",
    "# qqcw_test= calculate_drymmr_from_wetmmr(qqcw_wet,qv_wet.reshape((nlev,1)))"
   ]
  },
  {
   "cell_type": "code",
   "execution_count": 14,
   "metadata": {},
   "outputs": [],
   "source": [
    "# qqcw_test==qqcw"
   ]
  },
  {
   "cell_type": "code",
   "execution_count": 15,
   "metadata": {},
   "outputs": [],
   "source": [
    "# variables exit in base nc file, but I want to update their values with values from yaml file.\n",
    "update_var_dics = {}\n",
    "# var# : id of variable; nc: name of variables in netcdf file; mam4: name of variables in yaml files\n",
    "update_var_dics.update({'var1':{'nc':'T_mid','mam4':'temperature', 'shape':(nlev)}})\n",
    "update_var_dics.update({'var2':{'nc':'z_int','mam4':'zi', 'shape':(nlev+1)}})\n",
    "update_var_dics.update({'var3':{'nc':'z_mid','mam4':'zm', 'shape':(nlev)}})\n",
    "update_var_dics.update({'var4':{'nc':'p_mid','mam4':'pmid', 'shape':(nlev)}})\n",
    "update_var_dics.update({'var5':{'nc':'p_int','mam4':'pint', 'shape':(nlev+1)}})\n",
    "update_var_dics.update({'var6':{'nc':'pseudo_density','mam4':'pdel', 'shape':(nlev)}})\n",
    "update_var_dics.update({'var7':{'nc':'pseudo_density_dry','mam4':'pdeldry', 'shape':(nlev)}})\n",
    "# NOTE!: here I would like to update values of cldfrac_tot\n",
    "update_var_dics.update({'var8':{'nc':'cldfrac_tot','mam4':'cldn', 'shape':(nlev)}})\n"
   ]
  },
  {
   "cell_type": "code",
   "execution_count": 16,
   "metadata": {},
   "outputs": [],
   "source": [
    "for ivar in update_var_dics:\n",
    "  yaml_name = update_var_dics[ivar]['mam4']\n",
    "  var_1d = np.array(inputs[yaml_name])\n",
    "  var_nd = var_1d.reshape(update_var_dics[ivar]['shape'], order='F')\n",
    "  nc_name =  update_var_dics[ivar]['nc']\n",
    "  var= dst_ncdata.variables[nc_name]\n",
    "  # Note: we assume that all columns have same values\n",
    "  var[0,:,:] = var_nd\n"
   ]
  },
  {
   "cell_type": "code",
   "execution_count": 17,
   "metadata": {},
   "outputs": [],
   "source": [
    "# state_q(:,1) is used in several places in the fortran code.\n",
    "# according with code 1 is h2o, which corresponds to 0 in python\n",
    "update_var_dics_post_computed={}\n",
    "update_var_dics_post_computed.update({'var0':{'nc':'qv',\"values\":qv_wet, 'shape':(nlev),'idx':-1}})\n",
    "\n",
    "add_these_vars =['qc','qi','nc','ni']\n",
    "# order is important\n",
    "for idx,var in enumerate(add_these_vars,1):\n",
    "  update_var_dics_post_computed.update({'var'+str(idx):{'nc':var,\"values\":state_q_wet[:,idx],\n",
    "                                                'shape':(nlev)}})\n",
    "for ivar in update_var_dics_post_computed:\n",
    "  nc_name =  update_var_dics_post_computed[ivar]['nc']\n",
    "  try:\n",
    "    # create variables if it does not exit in original nc file\n",
    "    save_var = dst_ncdata.createVariable(\n",
    "        nc_name, datatype, scalar_2d_dims, fill_value=nan)\n",
    "    save_var.setncatts(\n",
    "        {\n",
    "            \"mdims\": 1,\n",
    "            \"units\": \"kg/kg\",\n",
    "            \"long_name\": nc_name,\n",
    "        }\n",
    "      )\n",
    "  except:\n",
    "      # variable name exits in original nc file\n",
    "      save_var = dst_ncdata.variables[nc_name]\n",
    "      # var= dst_ncdata.variables[nc_name]\n",
    "  # Note: we assume that all columns have same values\n",
    "  save_var[0,:,:] = update_var_dics_post_computed[ivar][\"values\"]\n"
   ]
  },
  {
   "cell_type": "code",
   "execution_count": 18,
   "metadata": {},
   "outputs": [],
   "source": [
    "# map to index from state_q to vmr\n",
    "map2chm = [         0,         0,         0,         0,         0,         0,         0,         0,         0,         1,         2,         3,         4,         5,         6,         7,         8,         9,        10,        11,        12,        13,        14,        15,        16,        17,        18,        19,        20,        21,        22,        23,        24,        25,        26,        27,        28,        29,        30,        31]"
   ]
  },
  {
   "cell_type": "code",
   "execution_count": 19,
   "metadata": {},
   "outputs": [],
   "source": [
    "#this list is produce by chemistry pre-process\n",
    "#Note : original name in e3sm is ncl. I change this name to nacl because we use nacl in eamxx\n",
    "solsym =[ 'O3              ','H2O2            ','H2SO4           ','SO2             ','DMS             ',\n",
    "                        'SOAG            ','so4_a1          ','pom_a1          ','soa_a1          ','bc_a1           ',\n",
    "                        'dst_a1          ','nacl_a1          ','mom_a1          ','num_a1          ','so4_a2          ',\n",
    "                        'soa_a2          ','nacl_a2          ','mom_a2          ','num_a2          ','dst_a3          ',\n",
    "                        'nacl_a3          ','so4_a3          ','bc_a3           ','pom_a3          ','soa_a3          ',\n",
    "                        'mom_a3          ','num_a3          ','pom_a4          ','bc_a4           ','mom_a4          ',\n",
    "                        'num_a4          ']\n",
    "var_names_vmr =[]\n",
    "# delete white space\n",
    "for ivar in solsym:\n",
    "  var_names_vmr += [ivar.replace(\" \", \"\")]"
   ]
  },
  {
   "cell_type": "code",
   "execution_count": 20,
   "metadata": {},
   "outputs": [],
   "source": [
    "update_var_dics_prog={}\n",
    "for mm in range(pcnst):\n",
    "  nn = map2chm[mm]-1\n",
    "  if( nn > -1 ):\n",
    "    # mmr(:ncol,:,nn) = state_q(:ncol,:,mm)\n",
    "    # print(mm,nn,var_names_vmr[nn])\n",
    "    # asummes that name of aerosol species is NAME_a.\n",
    "    cld_varname = var_names_vmr[nn].replace('_a', '_c')\n",
    "    if cld_varname==var_names_vmr[nn]:\n",
    "       #gas specie\n",
    "       # Note: we use lower case for gas species names in eamxx\n",
    "      update_var_dics_prog.update({'var'+str(mm):{'nc':var_names_vmr[nn],#.lower()\n",
    "                                                    'mam4':'state_q', 'shape':(nlev),'idx':mm}})\n",
    "    else:\n",
    "      # aerosol\n",
    "      update_var_dics_prog.update({'var_a'+str(mm):{'nc':var_names_vmr[nn],\n",
    "                                                    'mam4':'state_q', 'shape':(nlev),'idx':mm}})\n",
    "      update_var_dics_prog.update({'var_c'+str(mm):{'nc':cld_varname,\n",
    "                                                    'mam4':'qqcw', 'shape':(nlev),'idx':mm}})"
   ]
  },
  {
   "cell_type": "code",
   "execution_count": 21,
   "metadata": {},
   "outputs": [],
   "source": [
    "for ivar in update_var_dics_prog:\n",
    "  yaml_name = update_var_dics_prog[ivar]['mam4']\n",
    "  var_2d = var_list[yaml_name]['data_yaml']\n",
    "  nc_name =  update_var_dics_prog[ivar]['nc']\n",
    "  try:\n",
    "    # create variables if it does not exit in original nc file\n",
    "    save_var = dst_ncdata.createVariable(\n",
    "        nc_name, datatype, scalar_2d_dims, fill_value=nan)\n",
    "    save_var.setncatts(\n",
    "        {\n",
    "            \"mdims\": 1,\n",
    "            \"units\": \"kg/kg\",\n",
    "            \"long_name\": yaml_name +\" from e3sm with idx \"+ str(update_var_dics_prog[ivar]['idx']),\n",
    "        }\n",
    "      )\n",
    "  except:\n",
    "      # variable name exits in original nc file\n",
    "      save_var = dst_ncdata.variables[nc_name]\n",
    "  save_var[0,:]= var_2d[:, update_var_dics_prog[ivar]['idx']]"
   ]
  },
  {
   "cell_type": "code",
   "execution_count": 22,
   "metadata": {},
   "outputs": [],
   "source": [
    "dst_ncdata.close()\n"
   ]
  },
  {
   "cell_type": "code",
   "execution_count": null,
   "metadata": {},
   "outputs": [],
   "source": []
  },
  {
   "cell_type": "code",
   "execution_count": null,
   "metadata": {},
   "outputs": [],
   "source": []
  }
 ],
 "metadata": {
  "kernelspec": {
   "display_name": "py38",
   "language": "python",
   "name": "python3"
  },
  "language_info": {
   "codemirror_mode": {
    "name": "ipython",
    "version": 3
   },
   "file_extension": ".py",
   "mimetype": "text/x-python",
   "name": "python",
   "nbconvert_exporter": "python",
   "pygments_lexer": "ipython3",
   "version": "3.8.15"
  }
 },
 "nbformat": 4,
 "nbformat_minor": 2
}
